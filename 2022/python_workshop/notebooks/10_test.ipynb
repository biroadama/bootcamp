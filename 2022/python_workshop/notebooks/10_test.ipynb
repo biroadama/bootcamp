{
 "cells": [
  {
   "cell_type": "markdown",
   "metadata": {},
   "source": [
    "# Practical exam"
   ]
  },
  {
   "cell_type": "code",
   "execution_count": null,
   "metadata": {},
   "outputs": [],
   "source": [
    "### Please state your name here:\n",
    "Biro Adam Attila"
   ]
  },
  {
   "cell_type": "code",
   "execution_count": 1,
   "metadata": {},
   "outputs": [
    {
     "name": "stdout",
     "output_type": "stream",
     "text": [
      "Note: you may need to restart the kernel to use updated packages.\n",
      "Note: you may need to restart the kernel to use updated packages.\n"
     ]
    }
   ],
   "source": [
    "# make sure requirements are up to date\n",
    "%pip install --upgrade pip >> results/requirements_log.txt\n",
    "%pip install -r ../requirements.txt >> results/requirements_log.txt"
   ]
  },
  {
   "cell_type": "markdown",
   "metadata": {},
   "source": [
    "### 1.\n",
    "\n",
    "Given the below snippet, add the necessary code lines in function f2 in order to obtain the expected output:"
   ]
  },
  {
   "cell_type": "code",
   "execution_count": 202,
   "metadata": {},
   "outputs": [
    {
     "name": "stdout",
     "output_type": "stream",
     "text": [
      "~~~ 1\n",
      "{'cubed': 2} \n",
      " {'squared': 3}\n",
      "@@@ 1\n",
      "~~~ 2\n",
      "{'cubed': 1} \n",
      " {'squared': 0}\n",
      "@@@ 2\n",
      "~~~ 3\n",
      "{'cubed': 0} \n",
      " {'squared': 1}\n",
      "@@@ 3\n",
      "~~~ 4\n",
      "{'cubed': 7} \n",
      " {'squared': 6}\n",
      "@@@ 4\n"
     ]
    },
    {
     "ename": "TypeError",
     "evalue": "'NoneType' object is not iterable",
     "output_type": "error",
     "traceback": [
      "\u001b[1;31m---------------------------------------------------------------------------\u001b[0m",
      "\u001b[1;31mTypeError\u001b[0m                                 Traceback (most recent call last)",
      "\u001b[1;32mc:\\Users\\Laptop 17\\Desktop\\bootcamp\\bootcamp\\2022\\python_workshop\\notebooks\\10_test.ipynb Cell 5\u001b[0m in \u001b[0;36m<cell line: 17>\u001b[1;34m()\u001b[0m\n\u001b[0;32m     <a href='vscode-notebook-cell:/c%3A/Users/Laptop%2017/Desktop/bootcamp/bootcamp/2022/python_workshop/notebooks/10_test.ipynb#ch0000004?line=11'>12</a>\u001b[0m         \u001b[39mprint\u001b[39m(\u001b[39mf\u001b[39m\u001b[39m\"\u001b[39m\u001b[39m@@@ \u001b[39m\u001b[39m{\u001b[39;00mi\u001b[39m}\u001b[39;00m\u001b[39m\"\u001b[39m)\n\u001b[0;32m     <a href='vscode-notebook-cell:/c%3A/Users/Laptop%2017/Desktop/bootcamp/bootcamp/2022/python_workshop/notebooks/10_test.ipynb#ch0000004?line=15'>16</a>\u001b[0m n \u001b[39m=\u001b[39m \u001b[39m5\u001b[39m\n\u001b[1;32m---> <a href='vscode-notebook-cell:/c%3A/Users/Laptop%2017/Desktop/bootcamp/bootcamp/2022/python_workshop/notebooks/10_test.ipynb#ch0000004?line=16'>17</a>\u001b[0m \u001b[39mfor\u001b[39;00m x \u001b[39min\u001b[39;00m f2(n):\n\u001b[0;32m     <a href='vscode-notebook-cell:/c%3A/Users/Laptop%2017/Desktop/bootcamp/bootcamp/2022/python_workshop/notebooks/10_test.ipynb#ch0000004?line=17'>18</a>\u001b[0m     \u001b[39mprint\u001b[39m(x)\n",
      "\u001b[1;31mTypeError\u001b[0m: 'NoneType' object is not iterable"
     ]
    }
   ],
   "source": [
    "# dict = {'cubed': a,\n",
    "#         'squared': b}\n",
    "\n",
    "def f2(n):\n",
    "    for i in range(1, n):\n",
    "        print(f\"~~~ {i}\")\n",
    "        a = i^3\n",
    "        b = i^2\n",
    "        dict1 = {'cubed': a}\n",
    "        dict2 = {'squared': b}\n",
    "        print(dict1,'\\n',dict2)\n",
    "        print(f\"@@@ {i}\")\n",
    "\n",
    "\n",
    "\n",
    "n = 5\n",
    "for x in f2(n):\n",
    "    print(x)\n",
    "    "
   ]
  },
  {
   "cell_type": "markdown",
   "metadata": {},
   "source": [
    "Expected output:\n",
    "\n",
    "```\n",
    "~~~ 1\n",
    "{'cubed': 1}\n",
    "{'squared': 1}\n",
    "@@@ 1\n",
    "~~~ 2\n",
    "{'cubed': 8}\n",
    "{'squared': 4}\n",
    "@@@ 2\n",
    "~~~ 3\n",
    "{'cubed': 27}\n",
    "{'squared': 9}\n",
    "@@@ 3\n",
    "~~~ 4\n",
    "{'cubed': 64}\n",
    "{'squared': 16}\n",
    "@@@ 4\n",
    "```"
   ]
  },
  {
   "cell_type": "markdown",
   "metadata": {},
   "source": [
    "### 2.\n",
    "\n",
    "Under **resources**, there are two input files, [input_file_1.csv](/2022/python_workshop/notebooks/resources/input_file_1.csv) and [input_file_2.csv](/2022/python_workshop/notebooks/resources/input_file_2.csv).\n",
    "\n",
    "Given the two input files, remove the duplicates.\n",
    "\n",
    "If rows in all files are combined, there must be NO duplicates. Solution should include 2 functions, one for reading data from files and one for writing data to files. A partial solution without functions is accepted.\n",
    "\n",
    "Expected output: two separate output files under results/expected, [output_file_1.csv](/2022/python_workshop/notebooks/results/expected/output_file_1.csv) and [output_file_2.csv](/2022/python_workshop/notebooks/results/expected/output_file_2.csv)."
   ]
  },
  {
   "cell_type": "code",
   "execution_count": 30,
   "metadata": {},
   "outputs": [
    {
     "name": "stdout",
     "output_type": "stream",
     "text": [
      "  firstname  lastname   city\n",
      "0       joe  robinson   cluj\n",
      "2      adam    fisher  sibiu\n",
      "  firstname  lastname   city\n",
      "0       joe  robinson  sibiu\n",
      "1      alex    murphy   cluj\n",
      "2      adam    fisher  sibiu\n",
      "3       joe  robinson   cluj\n"
     ]
    }
   ],
   "source": [
    "import pandas as pd\n",
    "\n",
    "paths = ['./resources/input_file_1.csv','./resources/input_file_2.csv']\n",
    "\n",
    "def reader(*args):\n",
    "    x = pd.read_csv(*args)\n",
    "    x = x.drop_duplicates()\n",
    "    return x\n",
    "    \n",
    "def writer(a, *args):\n",
    "    y = reader(*args)\n",
    "    y.to_csv(f\"output_file_{a+1}.csv\", index=False) \n",
    "\n",
    "\n",
    "# print(reader('./resources/input_file_1.csv','./resources/input_file_2.csv'))\n",
    "for path in paths:\n",
    "    print(reader(path))\n",
    "\n",
    "for path, num in zip(paths, range(len(paths))):\n",
    "    writer(num, path)\n",
    "\n",
    "# print(writer(2, './resources/input_file_1.csv','./resources/input_file_2.csv'))"
   ]
  },
  {
   "cell_type": "markdown",
   "metadata": {},
   "source": [
    "### 3.\n",
    "\n",
    "Using the [data.gov.ro](https://data.gov.ro/dataset/acreditarea-unitatilor-sanitare-2021) API, extract the \"accredited hospitals 2021\" data set (link available below).\n",
    "\n",
    "Alternatively, if the API is down, use the backup file **hospitals.csv** from the **resources** folder as a source."
   ]
  },
  {
   "cell_type": "code",
   "execution_count": 31,
   "metadata": {},
   "outputs": [],
   "source": [
    "import requests\n",
    "import pandas as pd"
   ]
  },
  {
   "cell_type": "code",
   "execution_count": 63,
   "metadata": {},
   "outputs": [
    {
     "data": {
      "text/html": [
       "<div>\n",
       "<style scoped>\n",
       "    .dataframe tbody tr th:only-of-type {\n",
       "        vertical-align: middle;\n",
       "    }\n",
       "\n",
       "    .dataframe tbody tr th {\n",
       "        vertical-align: top;\n",
       "    }\n",
       "\n",
       "    .dataframe thead th {\n",
       "        text-align: right;\n",
       "    }\n",
       "</style>\n",
       "<table border=\"1\" class=\"dataframe\">\n",
       "  <thead>\n",
       "    <tr style=\"text-align: right;\">\n",
       "      <th></th>\n",
       "      <th>Nr. Crt.</th>\n",
       "      <th>Nume</th>\n",
       "      <th>Cod A.N.M.C.S.</th>\n",
       "      <th>Judet</th>\n",
       "      <th>Clasificare</th>\n",
       "      <th>TIP USP (in functie de specificul patologiei tratate)</th>\n",
       "      <th>TIP USP (in functie de regimul proprietatii)</th>\n",
       "      <th>TIP USP (din punct de vedere al invatamantului si al cercetarii stiintifice medicale)</th>\n",
       "      <th>Adresa completa a sediului principal</th>\n",
       "      <th>Adresa email oficiala</th>\n",
       "      <th>Website</th>\n",
       "      <th>Autoritatea tutelara</th>\n",
       "      <th>Acreditare ciclul I</th>\n",
       "      <th>Acreditare ciclul II</th>\n",
       "      <th></th>\n",
       "      <th>__1</th>\n",
       "      <th>__2</th>\n",
       "    </tr>\n",
       "  </thead>\n",
       "  <tbody>\n",
       "    <tr>\n",
       "      <th>0</th>\n",
       "      <td>1</td>\n",
       "      <td>SPITALUL MUNICIPAL CALAFAT</td>\n",
       "      <td>A001</td>\n",
       "      <td>Dolj</td>\n",
       "      <td>IV</td>\n",
       "      <td>general</td>\n",
       "      <td>public</td>\n",
       "      <td>fara invatamant</td>\n",
       "      <td>B-dul. T. Vladimirescu, Nr. 24, Calafat, cod 2...</td>\n",
       "      <td>spitalcalafat@gmail.com</td>\n",
       "      <td>spitalcalafat.ro</td>\n",
       "      <td>PRIMARIA MUNICIPIULUI CALAFAT</td>\n",
       "      <td>Acreditat</td>\n",
       "      <td>Categoria V Decizie de prelungire a procesului...</td>\n",
       "      <td></td>\n",
       "      <td></td>\n",
       "      <td></td>\n",
       "    </tr>\n",
       "    <tr>\n",
       "      <th>1</th>\n",
       "      <td>2</td>\n",
       "      <td>SPITALUL DE PSIHIATRIE CRONICI SCHITU GRECI</td>\n",
       "      <td>A002</td>\n",
       "      <td>Olt</td>\n",
       "      <td>V</td>\n",
       "      <td>afectiuni cronice</td>\n",
       "      <td>public</td>\n",
       "      <td>fara invatamant</td>\n",
       "      <td>SLATINA STR. A. I. CUZA NR. 14</td>\n",
       "      <td>spitalulschitu@gmail.com</td>\n",
       "      <td>www.spitalul-schitu.ro</td>\n",
       "      <td>CONSILIUL JUDETEAN OLT</td>\n",
       "      <td>Acreditat</td>\n",
       "      <td>Categoria V Decizie de prelungire a procesului...</td>\n",
       "      <td></td>\n",
       "      <td></td>\n",
       "      <td></td>\n",
       "    </tr>\n",
       "    <tr>\n",
       "      <th>2</th>\n",
       "      <td>3</td>\n",
       "      <td>SPITALUL CLINIC NICOLAE MALAXA</td>\n",
       "      <td>A003</td>\n",
       "      <td>Bucuresti</td>\n",
       "      <td>III</td>\n",
       "      <td>general</td>\n",
       "      <td>public</td>\n",
       "      <td>clinic cu sectii universitare</td>\n",
       "      <td>STR. DIMITRIE CANTEMIR, NR.1, PARTER, SECT.4, ...</td>\n",
       "      <td>secretariat@spitalmalaxa.ro</td>\n",
       "      <td>www.spitalmalaxa.ro</td>\n",
       "      <td>ASSMB</td>\n",
       "      <td>Acreditat</td>\n",
       "      <td>Categoria IV Acreditat cu incredere redusa</td>\n",
       "      <td></td>\n",
       "      <td></td>\n",
       "      <td></td>\n",
       "    </tr>\n",
       "    <tr>\n",
       "      <th>3</th>\n",
       "      <td>4</td>\n",
       "      <td>SPITALUL MILITAR DE URGENTA \"REGINA MARIA\" BRA?OV</td>\n",
       "      <td>A004</td>\n",
       "      <td>Brasov</td>\n",
       "      <td>III</td>\n",
       "      <td>urgenta</td>\n",
       "      <td>public</td>\n",
       "      <td>fara invatamant</td>\n",
       "      <td>Bucuresti, Str. Institutul Medico-Militar, Nr....</td>\n",
       "      <td>smureginamaria@rdsbv.ro</td>\n",
       "      <td>www.smubrasov.ro</td>\n",
       "      <td>DIRECtIA MEDICALa a Ministerului Apararii Nati...</td>\n",
       "      <td>Acreditat</td>\n",
       "      <td>Categoria II Acreditat cu recomandari</td>\n",
       "      <td></td>\n",
       "      <td></td>\n",
       "      <td></td>\n",
       "    </tr>\n",
       "    <tr>\n",
       "      <th>4</th>\n",
       "      <td>5</td>\n",
       "      <td>SPITALUL ORASENESC INEU</td>\n",
       "      <td>A005</td>\n",
       "      <td>Arad</td>\n",
       "      <td>IV</td>\n",
       "      <td>general</td>\n",
       "      <td>public</td>\n",
       "      <td>fara invatamant</td>\n",
       "      <td>Calea Republicii, nr. 5</td>\n",
       "      <td>spitalineu@yahoo.ro</td>\n",
       "      <td>http://www.spitalineu.ro</td>\n",
       "      <td>Primaria Orasului Ineu</td>\n",
       "      <td>Acreditat</td>\n",
       "      <td>Categoria V Decizie de prelungire a procesului...</td>\n",
       "      <td></td>\n",
       "      <td></td>\n",
       "      <td></td>\n",
       "    </tr>\n",
       "  </tbody>\n",
       "</table>\n",
       "</div>"
      ],
      "text/plain": [
       "  Nr. Crt.                                               Nume Cod A.N.M.C.S.  \\\n",
       "0        1                         SPITALUL MUNICIPAL CALAFAT           A001   \n",
       "1        2        SPITALUL DE PSIHIATRIE CRONICI SCHITU GRECI           A002   \n",
       "2        3                     SPITALUL CLINIC NICOLAE MALAXA           A003   \n",
       "3        4  SPITALUL MILITAR DE URGENTA \"REGINA MARIA\" BRA?OV           A004   \n",
       "4        5                            SPITALUL ORASENESC INEU           A005   \n",
       "\n",
       "       Judet Clasificare  \\\n",
       "0       Dolj          IV   \n",
       "1        Olt           V   \n",
       "2  Bucuresti         III   \n",
       "3     Brasov         III   \n",
       "4       Arad          IV   \n",
       "\n",
       "  TIP USP (in functie de specificul patologiei tratate)  \\\n",
       "0                                            general      \n",
       "1                                  afectiuni cronice      \n",
       "2                                            general      \n",
       "3                                            urgenta      \n",
       "4                                            general      \n",
       "\n",
       "  TIP USP (in functie de regimul proprietatii)  \\\n",
       "0                                       public   \n",
       "1                                       public   \n",
       "2                                       public   \n",
       "3                                       public   \n",
       "4                                       public   \n",
       "\n",
       "  TIP USP (din punct de vedere al invatamantului si al cercetarii stiintifice medicale)  \\\n",
       "0                                    fara invatamant                                      \n",
       "1                                    fara invatamant                                      \n",
       "2                      clinic cu sectii universitare                                      \n",
       "3                                    fara invatamant                                      \n",
       "4                                    fara invatamant                                      \n",
       "\n",
       "                Adresa completa a sediului principal  \\\n",
       "0  B-dul. T. Vladimirescu, Nr. 24, Calafat, cod 2...   \n",
       "1                     SLATINA STR. A. I. CUZA NR. 14   \n",
       "2  STR. DIMITRIE CANTEMIR, NR.1, PARTER, SECT.4, ...   \n",
       "3  Bucuresti, Str. Institutul Medico-Militar, Nr....   \n",
       "4                            Calea Republicii, nr. 5   \n",
       "\n",
       "         Adresa email oficiala                   Website  \\\n",
       "0      spitalcalafat@gmail.com          spitalcalafat.ro   \n",
       "1     spitalulschitu@gmail.com    www.spitalul-schitu.ro   \n",
       "2  secretariat@spitalmalaxa.ro       www.spitalmalaxa.ro   \n",
       "3      smureginamaria@rdsbv.ro          www.smubrasov.ro   \n",
       "4          spitalineu@yahoo.ro  http://www.spitalineu.ro   \n",
       "\n",
       "                                Autoritatea tutelara Acreditare ciclul I  \\\n",
       "0                      PRIMARIA MUNICIPIULUI CALAFAT           Acreditat   \n",
       "1                             CONSILIUL JUDETEAN OLT           Acreditat   \n",
       "2                                              ASSMB           Acreditat   \n",
       "3  DIRECtIA MEDICALa a Ministerului Apararii Nati...           Acreditat   \n",
       "4                             Primaria Orasului Ineu           Acreditat   \n",
       "\n",
       "                                Acreditare ciclul II   __1 __2  \n",
       "0  Categoria V Decizie de prelungire a procesului...            \n",
       "1  Categoria V Decizie de prelungire a procesului...            \n",
       "2         Categoria IV Acreditat cu incredere redusa            \n",
       "3              Categoria II Acreditat cu recomandari            \n",
       "4  Categoria V Decizie de prelungire a procesului...            "
      ]
     },
     "execution_count": 63,
     "metadata": {},
     "output_type": "execute_result"
    }
   ],
   "source": [
    "url_hospitals = 'https://data.gov.ro/dataset/4197b53e-7c91-4fcc-be07-883076d40ffc/resource/7a343719-d625-4b5c-98b5-895a684d61c4/download/anmcs-acreditare-unitati-sanitare-dec2021.json'\n",
    "\n",
    "\n",
    "hospitals = requests.get(url_hospitals).json()\n",
    "hospitals = pd.DataFrame(hospitals)\n",
    "hospitals.head()"
   ]
  },
  {
   "cell_type": "markdown",
   "metadata": {},
   "source": [
    "How many rows are in this dataset?"
   ]
  },
  {
   "cell_type": "code",
   "execution_count": 39,
   "metadata": {},
   "outputs": [
    {
     "data": {
      "text/plain": [
       "1365"
      ]
     },
     "execution_count": 39,
     "metadata": {},
     "output_type": "execute_result"
    }
   ],
   "source": [
    "len(hospitals.index) \n",
    "# hospitals.shape"
   ]
  },
  {
   "cell_type": "markdown",
   "metadata": {},
   "source": [
    "What are the columns in this dataset?"
   ]
  },
  {
   "cell_type": "code",
   "execution_count": 42,
   "metadata": {},
   "outputs": [
    {
     "data": {
      "text/plain": [
       "Index(['Nr. Crt.', 'Nume', 'Cod A.N.M.C.S.', 'Judet', 'Clasificare',\n",
       "       'TIP USP (in functie de specificul patologiei tratate)',\n",
       "       'TIP USP (in functie de regimul proprietatii)',\n",
       "       'TIP USP (din punct de vedere al invatamantului si al cercetarii stiintifice medicale)',\n",
       "       'Adresa completa a sediului principal', 'Adresa email oficiala',\n",
       "       'Website', 'Autoritatea tutelara', 'Acreditare ciclul I',\n",
       "       'Acreditare ciclul II', '', '__1', '__2'],\n",
       "      dtype='object')"
      ]
     },
     "execution_count": 42,
     "metadata": {},
     "output_type": "execute_result"
    }
   ],
   "source": [
    "hospitals.columns"
   ]
  },
  {
   "cell_type": "markdown",
   "metadata": {},
   "source": [
    "Drop the unnecessary columns:\n",
    "* Nr. Crt.\n",
    "* TIP USP (din punct de vedere al invatamantului si al cercetarii stiintifice medicale)\n",
    "* the last three columns"
   ]
  },
  {
   "cell_type": "code",
   "execution_count": 64,
   "metadata": {},
   "outputs": [],
   "source": [
    "cols = ['Nr. Crt.', 'TIP USP (din punct de vedere al invatamantului si al cercetarii stiintifice medicale)','', '__1', '__2']\n",
    "\n",
    "hospitals.drop(columns=cols, inplace=True)"
   ]
  },
  {
   "cell_type": "code",
   "execution_count": 60,
   "metadata": {},
   "outputs": [
    {
     "data": {
      "text/html": [
       "<div>\n",
       "<style scoped>\n",
       "    .dataframe tbody tr th:only-of-type {\n",
       "        vertical-align: middle;\n",
       "    }\n",
       "\n",
       "    .dataframe tbody tr th {\n",
       "        vertical-align: top;\n",
       "    }\n",
       "\n",
       "    .dataframe thead th {\n",
       "        text-align: right;\n",
       "    }\n",
       "</style>\n",
       "<table border=\"1\" class=\"dataframe\">\n",
       "  <thead>\n",
       "    <tr style=\"text-align: right;\">\n",
       "      <th></th>\n",
       "      <th>Nume</th>\n",
       "      <th>Cod A.N.M.C.S.</th>\n",
       "      <th>Judet</th>\n",
       "      <th>Clasificare</th>\n",
       "      <th>TIP USP (in functie de specificul patologiei tratate)</th>\n",
       "      <th>TIP USP (in functie de regimul proprietatii)</th>\n",
       "      <th>Adresa completa a sediului principal</th>\n",
       "      <th>Adresa email oficiala</th>\n",
       "      <th>Website</th>\n",
       "      <th>Autoritatea tutelara</th>\n",
       "      <th>Acreditare ciclul I</th>\n",
       "      <th>Acreditare ciclul II</th>\n",
       "    </tr>\n",
       "  </thead>\n",
       "  <tbody>\n",
       "    <tr>\n",
       "      <th>0</th>\n",
       "      <td>SPITALUL MUNICIPAL CALAFAT</td>\n",
       "      <td>A001</td>\n",
       "      <td>Dolj</td>\n",
       "      <td>IV</td>\n",
       "      <td>general</td>\n",
       "      <td>public</td>\n",
       "      <td>B-dul. T. Vladimirescu, Nr. 24, Calafat, cod 2...</td>\n",
       "      <td>spitalcalafat@gmail.com</td>\n",
       "      <td>spitalcalafat.ro</td>\n",
       "      <td>PRIMARIA MUNICIPIULUI CALAFAT</td>\n",
       "      <td>Acreditat</td>\n",
       "      <td>Categoria V Decizie de prelungire a procesului...</td>\n",
       "    </tr>\n",
       "    <tr>\n",
       "      <th>1</th>\n",
       "      <td>SPITALUL DE PSIHIATRIE CRONICI SCHITU GRECI</td>\n",
       "      <td>A002</td>\n",
       "      <td>Olt</td>\n",
       "      <td>V</td>\n",
       "      <td>afectiuni cronice</td>\n",
       "      <td>public</td>\n",
       "      <td>SLATINA STR. A. I. CUZA NR. 14</td>\n",
       "      <td>spitalulschitu@gmail.com</td>\n",
       "      <td>www.spitalul-schitu.ro</td>\n",
       "      <td>CONSILIUL JUDETEAN OLT</td>\n",
       "      <td>Acreditat</td>\n",
       "      <td>Categoria V Decizie de prelungire a procesului...</td>\n",
       "    </tr>\n",
       "    <tr>\n",
       "      <th>2</th>\n",
       "      <td>SPITALUL CLINIC NICOLAE MALAXA</td>\n",
       "      <td>A003</td>\n",
       "      <td>Bucuresti</td>\n",
       "      <td>III</td>\n",
       "      <td>general</td>\n",
       "      <td>public</td>\n",
       "      <td>STR. DIMITRIE CANTEMIR, NR.1, PARTER, SECT.4, ...</td>\n",
       "      <td>secretariat@spitalmalaxa.ro</td>\n",
       "      <td>www.spitalmalaxa.ro</td>\n",
       "      <td>ASSMB</td>\n",
       "      <td>Acreditat</td>\n",
       "      <td>Categoria IV Acreditat cu incredere redusa</td>\n",
       "    </tr>\n",
       "    <tr>\n",
       "      <th>3</th>\n",
       "      <td>SPITALUL MILITAR DE URGENTA \"REGINA MARIA\" BRA?OV</td>\n",
       "      <td>A004</td>\n",
       "      <td>Brasov</td>\n",
       "      <td>III</td>\n",
       "      <td>urgenta</td>\n",
       "      <td>public</td>\n",
       "      <td>Bucuresti, Str. Institutul Medico-Militar, Nr....</td>\n",
       "      <td>smureginamaria@rdsbv.ro</td>\n",
       "      <td>www.smubrasov.ro</td>\n",
       "      <td>DIRECtIA MEDICALa a Ministerului Apararii Nati...</td>\n",
       "      <td>Acreditat</td>\n",
       "      <td>Categoria II Acreditat cu recomandari</td>\n",
       "    </tr>\n",
       "    <tr>\n",
       "      <th>4</th>\n",
       "      <td>SPITALUL ORASENESC INEU</td>\n",
       "      <td>A005</td>\n",
       "      <td>Arad</td>\n",
       "      <td>IV</td>\n",
       "      <td>general</td>\n",
       "      <td>public</td>\n",
       "      <td>Calea Republicii, nr. 5</td>\n",
       "      <td>spitalineu@yahoo.ro</td>\n",
       "      <td>http://www.spitalineu.ro</td>\n",
       "      <td>Primaria Orasului Ineu</td>\n",
       "      <td>Acreditat</td>\n",
       "      <td>Categoria V Decizie de prelungire a procesului...</td>\n",
       "    </tr>\n",
       "  </tbody>\n",
       "</table>\n",
       "</div>"
      ],
      "text/plain": [
       "                                                Nume Cod A.N.M.C.S.  \\\n",
       "0                         SPITALUL MUNICIPAL CALAFAT           A001   \n",
       "1        SPITALUL DE PSIHIATRIE CRONICI SCHITU GRECI           A002   \n",
       "2                     SPITALUL CLINIC NICOLAE MALAXA           A003   \n",
       "3  SPITALUL MILITAR DE URGENTA \"REGINA MARIA\" BRA?OV           A004   \n",
       "4                            SPITALUL ORASENESC INEU           A005   \n",
       "\n",
       "       Judet Clasificare  \\\n",
       "0       Dolj          IV   \n",
       "1        Olt           V   \n",
       "2  Bucuresti         III   \n",
       "3     Brasov         III   \n",
       "4       Arad          IV   \n",
       "\n",
       "  TIP USP (in functie de specificul patologiei tratate)  \\\n",
       "0                                            general      \n",
       "1                                  afectiuni cronice      \n",
       "2                                            general      \n",
       "3                                            urgenta      \n",
       "4                                            general      \n",
       "\n",
       "  TIP USP (in functie de regimul proprietatii)  \\\n",
       "0                                       public   \n",
       "1                                       public   \n",
       "2                                       public   \n",
       "3                                       public   \n",
       "4                                       public   \n",
       "\n",
       "                Adresa completa a sediului principal  \\\n",
       "0  B-dul. T. Vladimirescu, Nr. 24, Calafat, cod 2...   \n",
       "1                     SLATINA STR. A. I. CUZA NR. 14   \n",
       "2  STR. DIMITRIE CANTEMIR, NR.1, PARTER, SECT.4, ...   \n",
       "3  Bucuresti, Str. Institutul Medico-Militar, Nr....   \n",
       "4                            Calea Republicii, nr. 5   \n",
       "\n",
       "         Adresa email oficiala                   Website  \\\n",
       "0      spitalcalafat@gmail.com          spitalcalafat.ro   \n",
       "1     spitalulschitu@gmail.com    www.spitalul-schitu.ro   \n",
       "2  secretariat@spitalmalaxa.ro       www.spitalmalaxa.ro   \n",
       "3      smureginamaria@rdsbv.ro          www.smubrasov.ro   \n",
       "4          spitalineu@yahoo.ro  http://www.spitalineu.ro   \n",
       "\n",
       "                                Autoritatea tutelara Acreditare ciclul I  \\\n",
       "0                      PRIMARIA MUNICIPIULUI CALAFAT           Acreditat   \n",
       "1                             CONSILIUL JUDETEAN OLT           Acreditat   \n",
       "2                                              ASSMB           Acreditat   \n",
       "3  DIRECtIA MEDICALa a Ministerului Apararii Nati...           Acreditat   \n",
       "4                             Primaria Orasului Ineu           Acreditat   \n",
       "\n",
       "                                Acreditare ciclul II  \n",
       "0  Categoria V Decizie de prelungire a procesului...  \n",
       "1  Categoria V Decizie de prelungire a procesului...  \n",
       "2         Categoria IV Acreditat cu incredere redusa  \n",
       "3              Categoria II Acreditat cu recomandari  \n",
       "4  Categoria V Decizie de prelungire a procesului...  "
      ]
     },
     "execution_count": 60,
     "metadata": {},
     "output_type": "execute_result"
    }
   ],
   "source": [
    "hospitals.head()"
   ]
  },
  {
   "cell_type": "markdown",
   "metadata": {},
   "source": [
    "Apply the following transformations to the columns, so that they are easier to work with:\n",
    "* lowercase all columns\n",
    "* `TIP USP (in functie de specificul patologiei tratate)` rename to `tip_patologie`\n",
    "* `TIP USP (in functie de regimul proprietatii)` rename to `tip`\n",
    "* `Adresa completa a sediului principal` rename to `adresa`\n",
    "* `Adresa email oficiala` rename to `email`\n",
    "* `Autoritatea tutelara` rename to `autoritate_tutelara`\n",
    "* `Acreditare ciclul I` rename to `acreditare_i`\n",
    "* `Acreditare ciclul II` rename to `acreditare_ii`"
   ]
  },
  {
   "cell_type": "code",
   "execution_count": 67,
   "metadata": {},
   "outputs": [
    {
     "data": {
      "text/html": [
       "<div>\n",
       "<style scoped>\n",
       "    .dataframe tbody tr th:only-of-type {\n",
       "        vertical-align: middle;\n",
       "    }\n",
       "\n",
       "    .dataframe tbody tr th {\n",
       "        vertical-align: top;\n",
       "    }\n",
       "\n",
       "    .dataframe thead th {\n",
       "        text-align: right;\n",
       "    }\n",
       "</style>\n",
       "<table border=\"1\" class=\"dataframe\">\n",
       "  <thead>\n",
       "    <tr style=\"text-align: right;\">\n",
       "      <th></th>\n",
       "      <th>nume</th>\n",
       "      <th>cod a.n.m.c.s.</th>\n",
       "      <th>judet</th>\n",
       "      <th>clasificare</th>\n",
       "      <th>tip_patologie</th>\n",
       "      <th>tip</th>\n",
       "      <th>adresa</th>\n",
       "      <th>email</th>\n",
       "      <th>website</th>\n",
       "      <th>autoritate_tutelara</th>\n",
       "      <th>acreditare_i</th>\n",
       "      <th>acreditare_ii</th>\n",
       "    </tr>\n",
       "  </thead>\n",
       "  <tbody>\n",
       "    <tr>\n",
       "      <th>0</th>\n",
       "      <td>SPITALUL MUNICIPAL CALAFAT</td>\n",
       "      <td>A001</td>\n",
       "      <td>Dolj</td>\n",
       "      <td>IV</td>\n",
       "      <td>general</td>\n",
       "      <td>public</td>\n",
       "      <td>B-dul. T. Vladimirescu, Nr. 24, Calafat, cod 2...</td>\n",
       "      <td>spitalcalafat@gmail.com</td>\n",
       "      <td>spitalcalafat.ro</td>\n",
       "      <td>PRIMARIA MUNICIPIULUI CALAFAT</td>\n",
       "      <td>Acreditat</td>\n",
       "      <td>Categoria V Decizie de prelungire a procesului...</td>\n",
       "    </tr>\n",
       "    <tr>\n",
       "      <th>1</th>\n",
       "      <td>SPITALUL DE PSIHIATRIE CRONICI SCHITU GRECI</td>\n",
       "      <td>A002</td>\n",
       "      <td>Olt</td>\n",
       "      <td>V</td>\n",
       "      <td>afectiuni cronice</td>\n",
       "      <td>public</td>\n",
       "      <td>SLATINA STR. A. I. CUZA NR. 14</td>\n",
       "      <td>spitalulschitu@gmail.com</td>\n",
       "      <td>www.spitalul-schitu.ro</td>\n",
       "      <td>CONSILIUL JUDETEAN OLT</td>\n",
       "      <td>Acreditat</td>\n",
       "      <td>Categoria V Decizie de prelungire a procesului...</td>\n",
       "    </tr>\n",
       "    <tr>\n",
       "      <th>2</th>\n",
       "      <td>SPITALUL CLINIC NICOLAE MALAXA</td>\n",
       "      <td>A003</td>\n",
       "      <td>Bucuresti</td>\n",
       "      <td>III</td>\n",
       "      <td>general</td>\n",
       "      <td>public</td>\n",
       "      <td>STR. DIMITRIE CANTEMIR, NR.1, PARTER, SECT.4, ...</td>\n",
       "      <td>secretariat@spitalmalaxa.ro</td>\n",
       "      <td>www.spitalmalaxa.ro</td>\n",
       "      <td>ASSMB</td>\n",
       "      <td>Acreditat</td>\n",
       "      <td>Categoria IV Acreditat cu incredere redusa</td>\n",
       "    </tr>\n",
       "    <tr>\n",
       "      <th>3</th>\n",
       "      <td>SPITALUL MILITAR DE URGENTA \"REGINA MARIA\" BRA?OV</td>\n",
       "      <td>A004</td>\n",
       "      <td>Brasov</td>\n",
       "      <td>III</td>\n",
       "      <td>urgenta</td>\n",
       "      <td>public</td>\n",
       "      <td>Bucuresti, Str. Institutul Medico-Militar, Nr....</td>\n",
       "      <td>smureginamaria@rdsbv.ro</td>\n",
       "      <td>www.smubrasov.ro</td>\n",
       "      <td>DIRECtIA MEDICALa a Ministerului Apararii Nati...</td>\n",
       "      <td>Acreditat</td>\n",
       "      <td>Categoria II Acreditat cu recomandari</td>\n",
       "    </tr>\n",
       "    <tr>\n",
       "      <th>4</th>\n",
       "      <td>SPITALUL ORASENESC INEU</td>\n",
       "      <td>A005</td>\n",
       "      <td>Arad</td>\n",
       "      <td>IV</td>\n",
       "      <td>general</td>\n",
       "      <td>public</td>\n",
       "      <td>Calea Republicii, nr. 5</td>\n",
       "      <td>spitalineu@yahoo.ro</td>\n",
       "      <td>http://www.spitalineu.ro</td>\n",
       "      <td>Primaria Orasului Ineu</td>\n",
       "      <td>Acreditat</td>\n",
       "      <td>Categoria V Decizie de prelungire a procesului...</td>\n",
       "    </tr>\n",
       "  </tbody>\n",
       "</table>\n",
       "</div>"
      ],
      "text/plain": [
       "                                                nume cod a.n.m.c.s.  \\\n",
       "0                         SPITALUL MUNICIPAL CALAFAT           A001   \n",
       "1        SPITALUL DE PSIHIATRIE CRONICI SCHITU GRECI           A002   \n",
       "2                     SPITALUL CLINIC NICOLAE MALAXA           A003   \n",
       "3  SPITALUL MILITAR DE URGENTA \"REGINA MARIA\" BRA?OV           A004   \n",
       "4                            SPITALUL ORASENESC INEU           A005   \n",
       "\n",
       "       judet clasificare      tip_patologie     tip  \\\n",
       "0       Dolj          IV            general  public   \n",
       "1        Olt           V  afectiuni cronice  public   \n",
       "2  Bucuresti         III            general  public   \n",
       "3     Brasov         III            urgenta  public   \n",
       "4       Arad          IV            general  public   \n",
       "\n",
       "                                              adresa  \\\n",
       "0  B-dul. T. Vladimirescu, Nr. 24, Calafat, cod 2...   \n",
       "1                     SLATINA STR. A. I. CUZA NR. 14   \n",
       "2  STR. DIMITRIE CANTEMIR, NR.1, PARTER, SECT.4, ...   \n",
       "3  Bucuresti, Str. Institutul Medico-Militar, Nr....   \n",
       "4                            Calea Republicii, nr. 5   \n",
       "\n",
       "                         email                   website  \\\n",
       "0      spitalcalafat@gmail.com          spitalcalafat.ro   \n",
       "1     spitalulschitu@gmail.com    www.spitalul-schitu.ro   \n",
       "2  secretariat@spitalmalaxa.ro       www.spitalmalaxa.ro   \n",
       "3      smureginamaria@rdsbv.ro          www.smubrasov.ro   \n",
       "4          spitalineu@yahoo.ro  http://www.spitalineu.ro   \n",
       "\n",
       "                                 autoritate_tutelara acreditare_i  \\\n",
       "0                      PRIMARIA MUNICIPIULUI CALAFAT    Acreditat   \n",
       "1                             CONSILIUL JUDETEAN OLT    Acreditat   \n",
       "2                                              ASSMB    Acreditat   \n",
       "3  DIRECtIA MEDICALa a Ministerului Apararii Nati...    Acreditat   \n",
       "4                             Primaria Orasului Ineu    Acreditat   \n",
       "\n",
       "                                       acreditare_ii  \n",
       "0  Categoria V Decizie de prelungire a procesului...  \n",
       "1  Categoria V Decizie de prelungire a procesului...  \n",
       "2         Categoria IV Acreditat cu incredere redusa  \n",
       "3              Categoria II Acreditat cu recomandari  \n",
       "4  Categoria V Decizie de prelungire a procesului...  "
      ]
     },
     "execution_count": 67,
     "metadata": {},
     "output_type": "execute_result"
    }
   ],
   "source": [
    "hospitals.rename(\n",
    "    columns={\n",
    "        'TIP USP (in functie de specificul patologiei tratate)': 'tip_patologie',\n",
    "        'TIP USP (in functie de regimul proprietatii)': 'tip',\n",
    "        'Adresa completa a sediului principal': 'adresa', \n",
    "        'Adresa email oficiala': 'email',\n",
    "        'Autoritatea tutelara': 'autoritate_tutelara', \n",
    "        'Acreditare ciclul I': 'acreditare_i',\n",
    "        'Acreditare ciclul II': 'acreditare_ii' },\n",
    "        inplace=True\n",
    ")\n",
    "\n",
    "hospitals = hospitals.rename(columns=lambda x: x.lower())\n",
    "hospitals.head()"
   ]
  },
  {
   "cell_type": "markdown",
   "metadata": {},
   "source": [
    "The total number of hospitals in this dataset is 762, however the actual number of rows is greater than that.\n",
    "\n",
    "Identify and remove the empty (blank space) rows."
   ]
  },
  {
   "cell_type": "code",
   "execution_count": 76,
   "metadata": {},
   "outputs": [],
   "source": [
    "import numpy as np"
   ]
  },
  {
   "cell_type": "code",
   "execution_count": 85,
   "metadata": {},
   "outputs": [],
   "source": [
    "hospitals.replace('', np.NaN)\n",
    "hospitals.dropna(how='all', inplace=True)"
   ]
  },
  {
   "cell_type": "code",
   "execution_count": 86,
   "metadata": {},
   "outputs": [
    {
     "data": {
      "text/html": [
       "<div>\n",
       "<style scoped>\n",
       "    .dataframe tbody tr th:only-of-type {\n",
       "        vertical-align: middle;\n",
       "    }\n",
       "\n",
       "    .dataframe tbody tr th {\n",
       "        vertical-align: top;\n",
       "    }\n",
       "\n",
       "    .dataframe thead th {\n",
       "        text-align: right;\n",
       "    }\n",
       "</style>\n",
       "<table border=\"1\" class=\"dataframe\">\n",
       "  <thead>\n",
       "    <tr style=\"text-align: right;\">\n",
       "      <th></th>\n",
       "      <th>nume</th>\n",
       "      <th>cod a.n.m.c.s.</th>\n",
       "      <th>judet</th>\n",
       "      <th>clasificare</th>\n",
       "      <th>tip_patologie</th>\n",
       "      <th>tip</th>\n",
       "      <th>adresa</th>\n",
       "      <th>email</th>\n",
       "      <th>website</th>\n",
       "      <th>autoritate_tutelara</th>\n",
       "      <th>acreditare_i</th>\n",
       "      <th>acreditare_ii</th>\n",
       "    </tr>\n",
       "  </thead>\n",
       "  <tbody>\n",
       "    <tr>\n",
       "      <th>757</th>\n",
       "      <td>CENTRUL MEDICAL ONCOHELP SRL</td>\n",
       "      <td>B399</td>\n",
       "      <td>Arad</td>\n",
       "      <td>V</td>\n",
       "      <td>specialitate</td>\n",
       "      <td>privat</td>\n",
       "      <td>Arad, str. Andrei Saguna nr.12</td>\n",
       "      <td>oncohelparad@gmail.com</td>\n",
       "      <td>oncohelparad.ro</td>\n",
       "      <td>privat</td>\n",
       "      <td>-</td>\n",
       "      <td>Unitate aflata in proces de acreditare</td>\n",
       "    </tr>\n",
       "    <tr>\n",
       "      <th>758</th>\n",
       "      <td>SC MATER ANIMA SRL</td>\n",
       "      <td>B400</td>\n",
       "      <td>Suceava</td>\n",
       "      <td>Neclasificat</td>\n",
       "      <td>specialitate</td>\n",
       "      <td>privat</td>\n",
       "      <td>Ipotesti, str. Stefan cel Mare 1079, jud Suceava</td>\n",
       "      <td>office@clinica-heredita.ro</td>\n",
       "      <td>www.clinica-hereditas.ro</td>\n",
       "      <td>privat</td>\n",
       "      <td>-</td>\n",
       "      <td>Unitate aflata in proces de acreditare</td>\n",
       "    </tr>\n",
       "    <tr>\n",
       "      <th>759</th>\n",
       "      <td>POPMED SERV SRL</td>\n",
       "      <td>B401</td>\n",
       "      <td>Mures</td>\n",
       "      <td>Neclasificat</td>\n",
       "      <td>pentru bolnavi cu afectiuni cronice</td>\n",
       "      <td>privat</td>\n",
       "      <td>REGHIN, STR. STEJARULUI, NR.3, JUD. MURES</td>\n",
       "      <td>popmedserv@yahoo.com</td>\n",
       "      <td>www.popmedserv.ro</td>\n",
       "      <td>SC POPMED SERV SRL</td>\n",
       "      <td>-</td>\n",
       "      <td>Unitate aflata in proces de acreditare</td>\n",
       "    </tr>\n",
       "    <tr>\n",
       "      <th>760</th>\n",
       "      <td>SPITALUL ORASENESC VICTORIA</td>\n",
       "      <td>B403</td>\n",
       "      <td>Brasov</td>\n",
       "      <td>Neclasificat</td>\n",
       "      <td>general</td>\n",
       "      <td>public</td>\n",
       "      <td>Str.Baii nr.2, orasul Victoria, jud.Brasov</td>\n",
       "      <td>spitalulorasenescvictoria@yahoo.com</td>\n",
       "      <td>www.spitalulorasenescvictoria.ro</td>\n",
       "      <td>UNITATEA ADMINISTRATIV TERITORIALA VICTORIA</td>\n",
       "      <td>-</td>\n",
       "      <td>Unitate aflata in proces de acreditare</td>\n",
       "    </tr>\n",
       "    <tr>\n",
       "      <th>761</th>\n",
       "      <td>CENTRUL MEDICAL DOROBANTI</td>\n",
       "      <td>B405</td>\n",
       "      <td>Constanta</td>\n",
       "      <td>Neclasificat</td>\n",
       "      <td>general</td>\n",
       "      <td>privat</td>\n",
       "      <td>Str. Dreptatii, nr 10</td>\n",
       "      <td>info@centrulmedicaldorobanti.ro</td>\n",
       "      <td>https://centrulmedicaldorobanti.ro/</td>\n",
       "      <td>Centrul Medical Dorobanti</td>\n",
       "      <td>-</td>\n",
       "      <td>Unitate aflata in proces de acreditare</td>\n",
       "    </tr>\n",
       "  </tbody>\n",
       "</table>\n",
       "</div>"
      ],
      "text/plain": [
       "                             nume cod a.n.m.c.s.      judet   clasificare  \\\n",
       "757  CENTRUL MEDICAL ONCOHELP SRL           B399       Arad             V   \n",
       "758            SC MATER ANIMA SRL           B400    Suceava  Neclasificat   \n",
       "759               POPMED SERV SRL           B401      Mures  Neclasificat   \n",
       "760   SPITALUL ORASENESC VICTORIA           B403     Brasov  Neclasificat   \n",
       "761     CENTRUL MEDICAL DOROBANTI           B405  Constanta  Neclasificat   \n",
       "\n",
       "                           tip_patologie     tip  \\\n",
       "757                         specialitate  privat   \n",
       "758                         specialitate  privat   \n",
       "759  pentru bolnavi cu afectiuni cronice  privat   \n",
       "760                              general  public   \n",
       "761                              general  privat   \n",
       "\n",
       "                                               adresa  \\\n",
       "757                    Arad, str. Andrei Saguna nr.12   \n",
       "758  Ipotesti, str. Stefan cel Mare 1079, jud Suceava   \n",
       "759         REGHIN, STR. STEJARULUI, NR.3, JUD. MURES   \n",
       "760        Str.Baii nr.2, orasul Victoria, jud.Brasov   \n",
       "761                             Str. Dreptatii, nr 10   \n",
       "\n",
       "                                   email                              website  \\\n",
       "757               oncohelparad@gmail.com                      oncohelparad.ro   \n",
       "758           office@clinica-heredita.ro             www.clinica-hereditas.ro   \n",
       "759                 popmedserv@yahoo.com                    www.popmedserv.ro   \n",
       "760  spitalulorasenescvictoria@yahoo.com     www.spitalulorasenescvictoria.ro   \n",
       "761      info@centrulmedicaldorobanti.ro  https://centrulmedicaldorobanti.ro/   \n",
       "\n",
       "                             autoritate_tutelara acreditare_i  \\\n",
       "757                                       privat            -   \n",
       "758                                       privat            -   \n",
       "759                           SC POPMED SERV SRL            -   \n",
       "760  UNITATEA ADMINISTRATIV TERITORIALA VICTORIA            -   \n",
       "761                    Centrul Medical Dorobanti            -   \n",
       "\n",
       "                              acreditare_ii  \n",
       "757  Unitate aflata in proces de acreditare  \n",
       "758  Unitate aflata in proces de acreditare  \n",
       "759  Unitate aflata in proces de acreditare  \n",
       "760  Unitate aflata in proces de acreditare  \n",
       "761  Unitate aflata in proces de acreditare  "
      ]
     },
     "execution_count": 86,
     "metadata": {},
     "output_type": "execute_result"
    }
   ],
   "source": [
    "hospitals.tail()"
   ]
  },
  {
   "cell_type": "markdown",
   "metadata": {},
   "source": [
    "How many public hospitals and how many private hospitals are in this dataset?"
   ]
  },
  {
   "cell_type": "code",
   "execution_count": 91,
   "metadata": {},
   "outputs": [
    {
     "data": {
      "text/plain": [
       "privat    382\n",
       "public    380\n",
       "Name: tip, dtype: int64"
      ]
     },
     "execution_count": 91,
     "metadata": {},
     "output_type": "execute_result"
    }
   ],
   "source": [
    "hospitals['tip'].value_counts()"
   ]
  },
  {
   "cell_type": "markdown",
   "metadata": {},
   "source": [
    "Inspect the values in the `acreditare_i` column + print them."
   ]
  },
  {
   "cell_type": "code",
   "execution_count": 162,
   "metadata": {},
   "outputs": [
    {
     "data": {
      "text/plain": [
       "Acreditat      422\n",
       "-              338\n",
       "Neacreditat      2\n",
       "Name: acreditare_i, dtype: int64"
      ]
     },
     "execution_count": 162,
     "metadata": {},
     "output_type": "execute_result"
    }
   ],
   "source": [
    "hospitals['acreditare_i'].value_counts()\n",
    "# hospitals['acreditare_i']"
   ]
  },
  {
   "cell_type": "markdown",
   "metadata": {},
   "source": [
    "Create a dataframe containing the hospitals that are *not* accredited."
   ]
  },
  {
   "cell_type": "code",
   "execution_count": 101,
   "metadata": {},
   "outputs": [
    {
     "data": {
      "text/plain": [
       "188    Neacreditat\n",
       "214    Neacreditat\n",
       "424              -\n",
       "425              -\n",
       "426              -\n",
       "          ...     \n",
       "757              -\n",
       "758              -\n",
       "759              -\n",
       "760              -\n",
       "761              -\n",
       "Name: acreditare_i, Length: 340, dtype: object"
      ]
     },
     "execution_count": 101,
     "metadata": {},
     "output_type": "execute_result"
    }
   ],
   "source": [
    "hospitals_acredited = hospitals[hospitals['acreditare_i'] != 'Acreditat']\n",
    "hospitals_acredited['acreditare_i']\n"
   ]
  },
  {
   "cell_type": "markdown",
   "metadata": {},
   "source": [
    "How many hospitals are *not* accredited?"
   ]
  },
  {
   "cell_type": "code",
   "execution_count": 102,
   "metadata": {},
   "outputs": [
    {
     "data": {
      "text/plain": [
       "-              338\n",
       "Neacreditat      2\n",
       "Name: acreditare_i, dtype: int64"
      ]
     },
     "execution_count": 102,
     "metadata": {},
     "output_type": "execute_result"
    }
   ],
   "source": [
    "hospitals_acredited['acreditare_i'].value_counts()"
   ]
  },
  {
   "cell_type": "markdown",
   "metadata": {},
   "source": [
    "Pick a county (judet) for a more in-depth analysis.\n",
    "(Bucuresti is also a county)"
   ]
  },
  {
   "cell_type": "code",
   "execution_count": 177,
   "metadata": {},
   "outputs": [],
   "source": [
    "judet = 'Iasi'"
   ]
  },
  {
   "cell_type": "markdown",
   "metadata": {},
   "source": [
    "According to this dataset, how many hospitals are in this county?"
   ]
  },
  {
   "cell_type": "code",
   "execution_count": 178,
   "metadata": {},
   "outputs": [
    {
     "data": {
      "text/plain": [
       "42"
      ]
     },
     "execution_count": 178,
     "metadata": {},
     "output_type": "execute_result"
    }
   ],
   "source": [
    "len(hospitals[hospitals['judet']==judet].index)"
   ]
  },
  {
   "cell_type": "markdown",
   "metadata": {},
   "source": [
    "For the chosen county, create a Dataframe that contains the following information:\n",
    "* judet\n",
    "* tip (public, privat)\n",
    "* count of unaccredited hospitals\n",
    "* count of accredited hospitals"
   ]
  },
  {
   "cell_type": "code",
   "execution_count": 179,
   "metadata": {},
   "outputs": [
    {
     "data": {
      "text/html": [
       "<div>\n",
       "<style scoped>\n",
       "    .dataframe tbody tr th:only-of-type {\n",
       "        vertical-align: middle;\n",
       "    }\n",
       "\n",
       "    .dataframe tbody tr th {\n",
       "        vertical-align: top;\n",
       "    }\n",
       "\n",
       "    .dataframe thead th {\n",
       "        text-align: right;\n",
       "    }\n",
       "</style>\n",
       "<table border=\"1\" class=\"dataframe\">\n",
       "  <thead>\n",
       "    <tr style=\"text-align: right;\">\n",
       "      <th></th>\n",
       "      <th>judet</th>\n",
       "      <th>tip</th>\n",
       "      <th>accredited</th>\n",
       "      <th>unaccredited</th>\n",
       "    </tr>\n",
       "  </thead>\n",
       "  <tbody>\n",
       "    <tr>\n",
       "      <th>6</th>\n",
       "      <td>Iasi</td>\n",
       "      <td>public</td>\n",
       "      <td>1</td>\n",
       "      <td>0</td>\n",
       "    </tr>\n",
       "    <tr>\n",
       "      <th>29</th>\n",
       "      <td>Iasi</td>\n",
       "      <td>public</td>\n",
       "      <td>1</td>\n",
       "      <td>0</td>\n",
       "    </tr>\n",
       "    <tr>\n",
       "      <th>46</th>\n",
       "      <td>Iasi</td>\n",
       "      <td>public</td>\n",
       "      <td>1</td>\n",
       "      <td>0</td>\n",
       "    </tr>\n",
       "    <tr>\n",
       "      <th>71</th>\n",
       "      <td>Iasi</td>\n",
       "      <td>privat</td>\n",
       "      <td>1</td>\n",
       "      <td>0</td>\n",
       "    </tr>\n",
       "    <tr>\n",
       "      <th>72</th>\n",
       "      <td>Iasi</td>\n",
       "      <td>privat</td>\n",
       "      <td>1</td>\n",
       "      <td>0</td>\n",
       "    </tr>\n",
       "  </tbody>\n",
       "</table>\n",
       "</div>"
      ],
      "text/plain": [
       "   judet     tip  accredited  unaccredited\n",
       "6   Iasi  public           1             0\n",
       "29  Iasi  public           1             0\n",
       "46  Iasi  public           1             0\n",
       "71  Iasi  privat           1             0\n",
       "72  Iasi  privat           1             0"
      ]
     },
     "execution_count": 179,
     "metadata": {},
     "output_type": "execute_result"
    }
   ],
   "source": [
    "hosp = hospitals[hospitals['judet']==judet]\n",
    "stat = hosp.loc[:, ['judet','tip','acreditare_i']]\n",
    "\n",
    "# for row in stat:\n",
    "#     # print(row)\n",
    "#     if row['acreditare_i'] == 'Acreditat':\n",
    "#         # print('eeee')\n",
    "#         stat['accredited'] = 1\n",
    "#         stat['unaccredited'] = 0\n",
    "#     else:\n",
    "#         # print('oooo')\n",
    "#         stat['accredited'] = 0\n",
    "#         stat['unaccredited'] = 1\n",
    "\n",
    "stat['accredited'] = np.where(stat['acreditare_i']=='Acreditat', 1, 0)\n",
    "stat['unaccredited'] = np.where(stat['acreditare_i']!='Acreditat', 1, 0)\n",
    "stat.drop(columns='acreditare_i',inplace=True)\n",
    "\n",
    "stat.head()"
   ]
  },
  {
   "cell_type": "markdown",
   "metadata": {},
   "source": [
    "Create a plot that highlights\n",
    "* the number of accredited public hospitals\n",
    "* the number of accredited private hospitals\n",
    "* the number of unaccredited public hospitals\n",
    "* the number of unaccredited private hospitals\n",
    "\n",
    "The expected output for Bucuresti can be found  [here](/2022/python_workshop/notebooks/results/expected/output_test.png)."
   ]
  },
  {
   "cell_type": "code",
   "execution_count": 180,
   "metadata": {},
   "outputs": [
    {
     "data": {
      "text/plain": [
       "<BarContainer object of 4 artists>"
      ]
     },
     "execution_count": 180,
     "metadata": {},
     "output_type": "execute_result"
    },
    {
     "data": {
      "image/png": "[encoded data removed]",
      "text/plain": [
       "<Figure size 432x288 with 1 Axes>"
      ]
     },
     "metadata": {
      "needs_background": "light"
     },
     "output_type": "display_data"
    }
   ],
   "source": [
    "import matplotlib.pyplot as plt\n",
    "\n",
    "y = [stat[(stat['accredited'] == 1) & (stat['tip'] == 'privat')].tip.count(),\n",
    "stat[(stat['accredited'] == 0) & (stat['tip'] == 'privat')].tip.count(),\n",
    "stat[(stat['accredited'] == 1) & (stat['tip'] == 'public')].tip.count(),\n",
    "stat[(stat['accredited'] == 0) & (stat['tip'] == 'public')].tip.count()]\n",
    "\n",
    "x = ['accreditat_privat', 'neaccreditat_privat', 'accreditat_public', 'neaccreditat_public']\n",
    "\n",
    "colors = ['blue', 'red', 'green', 'orange']\n",
    "\n",
    "plt.barh(x,y, color = colors, edgecolor='black')\n",
    "\n",
    "# plt.show()\n",
    "# type(color)\n"
   ]
  }
 ],
 "metadata": {
  "kernelspec": {
   "display_name": "Python 3.9.12 ('base')",
   "language": "python",
   "name": "python3"
  },
  "language_info": {
   "codemirror_mode": {
    "name": "ipython",
    "version": 3
   },
   "file_extension": ".py",
   "mimetype": "text/x-python",
   "name": "python",
   "nbconvert_exporter": "python",
   "pygments_lexer": "ipython3",
   "version": "3.9.12"
  },
  "orig_nbformat": 4,
  "vscode": {
   "interpreter": {
    "hash": "d31b83e9610685068a0fe73b54051d44dc1110027bef1c52e64b671e72faac45"
   }
  }
 },
 "nbformat": 4,
 "nbformat_minor": 2
}
